{
 "cells": [
  {
   "cell_type": "markdown",
   "id": "97abd367-2949-4866-931d-4bbd52a690c8",
   "metadata": {},
   "source": [
    "Q1. Write a program to calculate the electricity bill\n",
    "using only if statement? (accept number of unit from user)\n",
    "according to the following criteria:\n",
    "\n",
    "Unit Price\n",
    "First 100 units     &emsp;&emsp;  no charge\n",
    "Next 100 units     &emsp; &emsp;  Rs 5 per unit\n",
    "After 200 units     &emsp; &emsp; Rs 10 per unit"
   ]
  },
  {
   "cell_type": "code",
   "execution_count": 4,
   "id": "8df0cfdf-bb19-419b-b56b-c1ea06eee9be",
   "metadata": {},
   "outputs": [
    {
     "name": "stdin",
     "output_type": "stream",
     "text": [
      "Enter number of units:  250\n"
     ]
    },
    {
     "name": "stdout",
     "output_type": "stream",
     "text": [
      "total bill amount:Rs 1000\n"
     ]
    }
   ],
   "source": [
    "units = int(input(\"Enter number of units: \"))\n",
    "bill=0\n",
    "if units>100:\n",
    "    bill =(units-100)*5\n",
    "else:\n",
    "    bill =0\n",
    "if units>200:\n",
    "    bill=500+(units-200)*10\n",
    "print(f\"total bill amount:Rs {bill}\")"
   ]
  },
  {
   "cell_type": "markdown",
   "id": "ab4cb1ab-9ce2-483e-a7cc-85820686699a",
   "metadata": {},
   "source": [
    "Q2. write a program to accept percentage frrom the user and display the grade according to the following criteria:\n",
    "\n",
    "   Marks             Grade\n",
    "   >90                A\n",
    "   >80 and <=90       B\n",
    "   >=60 and <=80      C\n",
    "   below 60           D "
   ]
  },
  {
   "cell_type": "code",
   "execution_count": 8,
   "id": "e7cfd1bb-db88-4bb4-ad9f-7260690f2292",
   "metadata": {},
   "outputs": [
    {
     "name": "stdin",
     "output_type": "stream",
     "text": [
      "enter your percentage 99\n"
     ]
    },
    {
     "name": "stdout",
     "output_type": "stream",
     "text": [
      "your grade is 'A'\n"
     ]
    }
   ],
   "source": [
    "percentage = int(input(\"enter your percentage\"))\n",
    "if percentage>90:\n",
    "    print(\"your grade is 'A'\")\n",
    "elif percentage>80 and percentage<=90:\n",
    "    print(\"your grade is 'B'\")\n",
    "elif percentage>=60 and percentage<=80:\n",
    "    print(\"your grade is 'C'\")\n",
    "else: \n",
    "    print(\"your grade is 'D'\")"
   ]
  },
  {
   "cell_type": "markdown",
   "id": "f5ebe502-ceba-44c4-b390-6b4e50a5971f",
   "metadata": {},
   "source": [
    "Q3. Accept the age of 4 people and display the youngest one?"
   ]
  },
  {
   "cell_type": "code",
   "execution_count": 1,
   "id": "43acf2b2-d495-4931-a784-a8e5ea3741e1",
   "metadata": {},
   "outputs": [
    {
     "name": "stdout",
     "output_type": "stream",
     "text": [
      "enter the age of 4 people\n"
     ]
    },
    {
     "name": "stdin",
     "output_type": "stream",
     "text": [
      "enter the age of prakul 74\n",
      "enter the age of sachin 45\n",
      "enter the age of rohit 48\n",
      "enter the age of raman 45\n"
     ]
    },
    {
     "name": "stdout",
     "output_type": "stream",
     "text": [
      "youngest one age is :45\n"
     ]
    }
   ],
   "source": [
    "print(\"enter the age of 4 people\")\n",
    "prakul = int(input(\"enter the age of prakul\"))\n",
    "sachin = int(input(\"enter the age of sachin\"))\n",
    "rohit = int(input(\"enter the age of rohit\"))\n",
    "raman = int(input(\"enter the age of raman\"))\n",
    "if prakul<sachin and  prakul<rohit and prakul<raman:\n",
    "    print(f\"youngest one age is : {prakul}\")\n",
    "elif sachin<prakul and sachin<rohit and sachin<raman:\n",
    "    print(f\"youngest one age is : {sachin}\")\n",
    "elif rohit<prakul and rohit<sachin and rohit<raman:\n",
    "    print(f\"youngest one age is : {rohit}\")\n",
    "else:\n",
    "    print(f\"youngest one age is :{raman}\")"
   ]
  },
  {
   "cell_type": "markdown",
   "id": "d33e7194-556c-469c-9702-172cfcd0edb1",
   "metadata": {},
   "source": [
    "Q4. A company decided to give bonus to employee\n",
    "according to following criteria:\n",
    "\n",
    "Time period of Service----------- Bonus\n",
    "\n",
    "More than 10 years    ----------------10%\n",
    "\n",
    "\\>=6 and <=10 -------------------------8%\n",
    "\n",
    "Less than 6 years ----------------------5%\n",
    "\n",
    "Ask user for their salary and years of service and print the\n",
    "net bonus amount?"
   ]
  },
  {
   "cell_type": "code",
   "execution_count": 8,
   "id": "832d3b80-ee13-49b5-951e-78a9e639129d",
   "metadata": {},
   "outputs": [
    {
     "name": "stdin",
     "output_type": "stream",
     "text": [
      "enter your salary 30000\n",
      "enter your year of  service 12\n"
     ]
    },
    {
     "name": "stdout",
     "output_type": "stream",
     "text": [
      "your bonus is 3000.0\n"
     ]
    }
   ],
   "source": [
    "salary = int(input(\"enter your salary\"))\n",
    "service = int(input(\"enter your year of  service\"))\n",
    "if service<6:\n",
    "    print(f\"your bonus is {(salary *5)/100}\")\n",
    "elif service<=10 and service>=6:\n",
    "    print(f\"your bonus is {(salary *8)/100}\")\n",
    "else:\n",
    "    print(f\"your bonus is {(salary *10)/100}\")"
   ]
  },
  {
   "cell_type": "markdown",
   "id": "4697512f-c030-45ce-aa36-1073a83fd521",
   "metadata": {},
   "source": [
    "Q5. Accept three number from user and display the second largest number?\n"
   ]
  },
  {
   "cell_type": "code",
   "execution_count": 14,
   "id": "413b1f00-ac8d-4f59-9318-c48dc0cfbc85",
   "metadata": {},
   "outputs": [
    {
     "name": "stdin",
     "output_type": "stream",
     "text": [
      "enter number 1 45\n",
      "enter number 2 54\n",
      "enter number 3 14\n"
     ]
    },
    {
     "name": "stdout",
     "output_type": "stream",
     "text": [
      " second largest number: 45\n"
     ]
    }
   ],
   "source": [
    "number1 = int(input(\"enter number 1\"))\n",
    "number2 = int(input(\"enter number 2\"))\n",
    "number3 = int(input(\"enter number 3\"))\n",
    "if (number1>number2 and number1<number3) or (number1>number3 and number1<number2):\n",
    "    print(f\" second largest number: {number1}\")\n",
    "elif (number2>number3 and number2<number1) or (number2<number3 and number2>number1):\n",
    "    print(f\" second largest number: {number2}\")\n",
    "else:\n",
    "    print(f\" second largest number: {number3}\")"
   ]
  },
  {
   "cell_type": "raw",
   "id": "1eb5ee49-df2d-4a4c-86c8-c000dc1b7b15",
   "metadata": {},
   "source": [
    "Q6. Accept the marked price from the user and calculate the Net amount as (Marked Price – Discount) to pay according to following criteria:\n",
    "\n",
    "Marked Price-----------Discount\n",
    ">10000-----------------20%\n",
    ">7000 and <=10000------15%\n",
    "<=7000------------------10%"
   ]
  },
  {
   "cell_type": "code",
   "execution_count": 33,
   "id": "4c5ed9e3-e087-4081-9b66-46b70bd7fdd1",
   "metadata": {},
   "outputs": [
    {
     "name": "stdin",
     "output_type": "stream",
     "text": [
      "enter your markedprice 4000\n"
     ]
    },
    {
     "name": "stdout",
     "output_type": "stream",
     "text": [
      "your net_price is3600.0\n"
     ]
    }
   ],
   "source": [
    "markedprice = int(input(\"enter your markedprice\"))\n",
    "if markedprice>10000:\n",
    "    net_price= (markedprice-(markedprice*20)/100)\n",
    "elif markedprice >7000 and markedprice <=10000:\n",
    "    net_price = (markedprice-(markedprice*15)/100)\n",
    "else:\n",
    "    net_price = (markedprice-(markedprice*10)/100)\n",
    "    print(f\"your net_price is{net_price}\")"
   ]
  },
  {
   "cell_type": "raw",
   "id": "d9b070a4-59a0-4e3c-8f0d-c7edfc18e66b",
   "metadata": {},
   "source": [
    "Q7. Accept the marks of English, Math and Science,\n",
    "Social Studies Subject and display the stream allotted\n",
    "according to following:\n",
    "\n",
    "All Subjects more than 80 marks — Science Stream\n",
    "\n",
    "English >80 and Math, Science above 50 — Commerce Stream\n",
    "\n",
    "English > 80 and social studies > 80 — Humanities"
   ]
  },
  {
   "cell_type": "code",
   "execution_count": 22,
   "id": "cdbe69e3-8b92-486d-bfd6-02366f2b8d30",
   "metadata": {},
   "outputs": [
    {
     "name": "stdout",
     "output_type": "stream",
     "text": [
      "enter the marks of subject\n"
     ]
    },
    {
     "name": "stdin",
     "output_type": "stream",
     "text": [
      "enter the marks of english 80\n",
      "enter the marks of maths 45\n",
      "enter the marks of science 65\n",
      "enter the marks of science 78\n"
     ]
    },
    {
     "name": "stdout",
     "output_type": "stream",
     "text": [
      "Need marks above 80 in english\n"
     ]
    }
   ],
   "source": [
    "print(\"enter the marks of subject\")\n",
    "english = int(input(\"enter the marks of english\"))\n",
    "maths = int(input(\"enter the marks of maths\"))\n",
    "science = int(input(\"enter the marks of science\"))\n",
    "social_science = int(input(\"enter the marks of science\"))\n",
    "if english>80 and maths>80 and science>80 and social>science>80:\n",
    "    print(\"you got science stream\")\n",
    "elif english>80 and maths>50 and science>50 :\n",
    "    print(\"you got commerce stream\")\n",
    "elif english>80 and social_science>80:\n",
    "    print(\"you got humanities\")\n",
    "else: \n",
    "    print(\"Need marks above 80 in english\")"
   ]
  },
  {
   "cell_type": "raw",
   "id": "fb050db5-12f5-4baf-b702-7dad1e2fdba0",
   "metadata": {},
   "source": [
    "Q8. write a program to display \"Hello\" if a number entered by user is multiple of five , otherwise print \"bye\"?\n"
   ]
  },
  {
   "cell_type": "code",
   "execution_count": 26,
   "id": "ce39c8ab-99e6-4a74-a6f7-4d4bd3f57bcc",
   "metadata": {},
   "outputs": [
    {
     "name": "stdin",
     "output_type": "stream",
     "text": [
      "enter your number 45\n"
     ]
    },
    {
     "name": "stdout",
     "output_type": "stream",
     "text": [
      "hello\n"
     ]
    }
   ],
   "source": [
    "number = int(input(\"enter your number\"))\n",
    "if number%5==0:\n",
    "    print(\"hello\")\n",
    "else:\n",
    "    print(\"bye\")"
   ]
  },
  {
   "cell_type": "raw",
   "id": "1d6b92b9-53e2-4013-9781-3f7f9568f0b8",
   "metadata": {},
   "source": [
    "Q9. write a program to check whether the last digit of a number (entered bye user) is divisible by 3 or not?\n"
   ]
  },
  {
   "cell_type": "code",
   "execution_count": 31,
   "id": "3d3afd6f-7017-4b63-b45f-05e8739f0881",
   "metadata": {},
   "outputs": [
    {
     "name": "stdin",
     "output_type": "stream",
     "text": [
      "enter the number 233\n"
     ]
    },
    {
     "name": "stdout",
     "output_type": "stream",
     "text": [
      "last digit of 233 is divisble by 3\n"
     ]
    }
   ],
   "source": [
    "number = int(input(\"enter the number\"))\n",
    "if (number%10)%3==0:\n",
    "    print(f\"last digit of {number} is divisble by 3\")\n",
    "else:\n",
    "    print(f\"last digit of {number} is not divisble by 3\")"
   ]
  },
  {
   "cell_type": "raw",
   "id": "c9cb0377-e80d-4d5c-844e-c254a48dbd84",
   "metadata": {},
   "source": [
    "Q10.Write a program to check whether a number entered is three-digit number or not?"
   ]
  },
  {
   "cell_type": "code",
   "execution_count": 32,
   "id": "f484892d-e3e6-46f0-965d-9d19c9129c91",
   "metadata": {},
   "outputs": [
    {
     "name": "stdin",
     "output_type": "stream",
     "text": [
      "enter a number 455\n"
     ]
    },
    {
     "name": "stdout",
     "output_type": "stream",
     "text": [
      "its a three digit number\n"
     ]
    }
   ],
   "source": [
    "number = int(input(\"enter a number\"))\n",
    "if 100<= number<=999 or -999<= number<=-100:\n",
    "    print(\"its a three digit number\")\n",
    "else:\n",
    "    print(\"it in not a three digit number\")\n",
    "    "
   ]
  },
  {
   "cell_type": "code",
   "execution_count": null,
   "id": "39df2ca2-b444-4f71-bf53-bce41f15351f",
   "metadata": {},
   "outputs": [],
   "source": []
  }
 ],
 "metadata": {
  "kernelspec": {
   "display_name": "Python [conda env:base] *",
   "language": "python",
   "name": "conda-base-py"
  },
  "language_info": {
   "codemirror_mode": {
    "name": "ipython",
    "version": 3
   },
   "file_extension": ".py",
   "mimetype": "text/x-python",
   "name": "python",
   "nbconvert_exporter": "python",
   "pygments_lexer": "ipython3",
   "version": "3.13.5"
  }
 },
 "nbformat": 4,
 "nbformat_minor": 5
}
