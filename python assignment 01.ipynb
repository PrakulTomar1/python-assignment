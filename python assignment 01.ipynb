{
 "cells": [
  {
   "cell_type": "markdown",
   "id": "592d7ef0-8c4a-4bc5-968b-ef2980514236",
   "metadata": {},
   "source": [
    "# question no 01 =  how do you concatenate two strings in python"
   ]
  },
  {
   "cell_type": "code",
   "execution_count": 1,
   "id": "788af739-c5ef-4f1d-94d5-3fef971ae371",
   "metadata": {},
   "outputs": [],
   "source": [
    "# it is done using the +opreator , join(), or f string"
   ]
  },
  {
   "cell_type": "code",
   "execution_count": 2,
   "id": "1b0b24bb-849a-4b5c-9c2a-55fcd7340a3c",
   "metadata": {},
   "outputs": [
    {
     "data": {
      "text/plain": [
       "'pythonname'"
      ]
     },
     "execution_count": 2,
     "metadata": {},
     "output_type": "execute_result"
    }
   ],
   "source": [
    "\"python\"+\"name\" # opreator method"
   ]
  },
  {
   "cell_type": "code",
   "execution_count": 5,
   "id": "4d1d29e2-6142-4f85-b9de-e1fd43749a38",
   "metadata": {},
   "outputs": [
    {
     "data": {
      "text/plain": [
       "'pythonname'"
      ]
     },
     "execution_count": 5,
     "metadata": {},
     "output_type": "execute_result"
    }
   ],
   "source": [
    "\"\".join([\"python\",\"name\"])"
   ]
  },
  {
   "cell_type": "markdown",
   "id": "db6f12d2-6dd1-4df5-8eaf-4fe28a7639e1",
   "metadata": {},
   "source": [
    "# que 2 what is the diffrence b\\w the +opreator and the join() method for concatenating string"
   ]
  },
  {
   "cell_type": "code",
   "execution_count": 6,
   "id": "e440f34b-8aa3-4e20-bec4-172a3fd866f0",
   "metadata": {},
   "outputs": [],
   "source": [
    "# 01)opreator can combines 2-3 strings easily,  and it must be added manually ,(but +opreator efficency is low it is slower for many strings)\n",
    "# 02) join() we can join many strings for a list, and it is much more faster than + opreator , defined by .join() before "
   ]
  },
  {
   "cell_type": "code",
   "execution_count": 7,
   "id": "a5b2998b-466b-4400-ac05-277960f36b07",
   "metadata": {},
   "outputs": [],
   "source": [
    "name= \"hello\"\n",
    "name2 = \"python\""
   ]
  },
  {
   "cell_type": "code",
   "execution_count": 8,
   "id": "0ce21c7f-a1d3-4259-ae90-195669811cac",
   "metadata": {},
   "outputs": [
    {
     "name": "stdout",
     "output_type": "stream",
     "text": [
      "hellopython\n"
     ]
    }
   ],
   "source": [
    "print(name+name2) #opreator method"
   ]
  },
  {
   "cell_type": "code",
   "execution_count": 9,
   "id": "a57a4a77-9339-4df6-a42d-5fb4321c11ce",
   "metadata": {},
   "outputs": [],
   "source": [
    "# .join() method"
   ]
  },
  {
   "cell_type": "code",
   "execution_count": 28,
   "id": "e2a7c5e6-c8d9-4b78-acc5-0cc5ee588f4d",
   "metadata": {},
   "outputs": [
    {
     "data": {
      "text/plain": [
       "'hellomynameisprakul'"
      ]
     },
     "execution_count": 28,
     "metadata": {},
     "output_type": "execute_result"
    }
   ],
   "source": [
    "\"\".join([\"hello\", \"my\", \"name\", \"is\",  \"prakul\" ])"
   ]
  },
  {
   "cell_type": "markdown",
   "id": "236020c8-9d87-432a-881f-5948fbaca16d",
   "metadata": {},
   "source": [
    "#  que no 3 how do you access individual character in a string"
   ]
  },
  {
   "cell_type": "code",
   "execution_count": 29,
   "id": "75f21244-365c-4a6e-b9df-e7abe7ff1edf",
   "metadata": {},
   "outputs": [],
   "source": [
    "#  we can access individual characters by the help of index method "
   ]
  },
  {
   "cell_type": "code",
   "execution_count": 30,
   "id": "5474d550-b446-40d1-8ad9-0a7f412a1271",
   "metadata": {},
   "outputs": [],
   "source": [
    "name= (\"hello python\")"
   ]
  },
  {
   "cell_type": "code",
   "execution_count": 33,
   "id": "9ba17c30-499d-4d56-8341-12540c406b7d",
   "metadata": {},
   "outputs": [
    {
     "data": {
      "text/plain": [
       "'h'"
      ]
     },
     "execution_count": 33,
     "metadata": {},
     "output_type": "execute_result"
    }
   ],
   "source": [
    "name[9] #  this is the ex of posative indexing"
   ]
  },
  {
   "cell_type": "code",
   "execution_count": 34,
   "id": "45fc6a98-b8af-46d8-ba04-8a9760360abc",
   "metadata": {},
   "outputs": [],
   "source": [
    "name=(\"hello python\")"
   ]
  },
  {
   "cell_type": "code",
   "execution_count": 36,
   "id": "6e77f24d-34d2-4ef2-9fa7-3a4e67c9544c",
   "metadata": {},
   "outputs": [
    {
     "data": {
      "text/plain": [
       "'t'"
      ]
     },
     "execution_count": 36,
     "metadata": {},
     "output_type": "execute_result"
    }
   ],
   "source": [
    "name[-4] # and this is  the ex of negative indexing"
   ]
  },
  {
   "cell_type": "markdown",
   "id": "3f54ac0e-6d42-4400-a78f-3e8c25a9ab09",
   "metadata": {},
   "source": [
    "# que no 4 what method is used to find the length of a string in python"
   ]
  },
  {
   "cell_type": "code",
   "execution_count": 37,
   "id": "77449684-38c0-4a39-9f89-cc8b52ec2614",
   "metadata": {},
   "outputs": [],
   "source": [
    "# we can use len function key to find the length  of the string in python"
   ]
  },
  {
   "cell_type": "code",
   "execution_count": 52,
   "id": "cf92e7b9-d209-47f8-abdb-edd81a19a2f2",
   "metadata": {},
   "outputs": [],
   "source": [
    "name=(\"hello python\")\n"
   ]
  },
  {
   "cell_type": "code",
   "execution_count": 53,
   "id": "de773ce2-d343-456c-b257-b3e955005a87",
   "metadata": {},
   "outputs": [
    {
     "data": {
      "text/plain": [
       "12"
      ]
     },
     "execution_count": 53,
     "metadata": {},
     "output_type": "execute_result"
    }
   ],
   "source": [
    "len(name)"
   ]
  },
  {
   "cell_type": "markdown",
   "id": "d6b50863-79a6-4592-9895-7a0e091e7e58",
   "metadata": {},
   "source": [
    "# que no 5 how can you convert a string to uppercase in python"
   ]
  },
  {
   "cell_type": "code",
   "execution_count": 54,
   "id": "bacb70c0-e3df-4c1f-827b-38dc04d1518d",
   "metadata": {},
   "outputs": [],
   "source": [
    "name=(\"hello python\")"
   ]
  },
  {
   "cell_type": "code",
   "execution_count": 55,
   "id": "0c653e43-baed-4acf-915e-89d55ed03b18",
   "metadata": {},
   "outputs": [
    {
     "data": {
      "text/plain": [
       "'HELLO PYTHON'"
      ]
     },
     "execution_count": 55,
     "metadata": {},
     "output_type": "execute_result"
    }
   ],
   "source": [
    "name.upper()"
   ]
  },
  {
   "cell_type": "markdown",
   "id": "cfb07b8b-6ce5-49d8-8f55-5b10c21668ee",
   "metadata": {},
   "source": [
    " # que no 6 how can you convert a string to lowercase in python "
   ]
  },
  {
   "cell_type": "code",
   "execution_count": 21,
   "id": "9c073452-d564-411d-83df-32919057495c",
   "metadata": {},
   "outputs": [],
   "source": [
    "name=(\"HELLO PYTHON\") # by using .lower method\n"
   ]
  },
  {
   "cell_type": "code",
   "execution_count": 57,
   "id": "46aa31f5-fd1c-475f-88ae-4fb5089c4c26",
   "metadata": {},
   "outputs": [
    {
     "data": {
      "text/plain": [
       "'hello python'"
      ]
     },
     "execution_count": 57,
     "metadata": {},
     "output_type": "execute_result"
    }
   ],
   "source": [
    "name.lower()"
   ]
  },
  {
   "cell_type": "markdown",
   "id": "a2d7325e-1ac1-471d-92f5-fba6b5bb8183",
   "metadata": {},
   "source": [
    "# que no 7 what  method  is used to replace substring with a string"
   ]
  },
  {
   "cell_type": "code",
   "execution_count": 58,
   "id": "4f1fe5ec-2f76-460d-97ab-e1c4cbe62bda",
   "metadata": {},
   "outputs": [],
   "source": [
    "string = (\"hello python\")"
   ]
  },
  {
   "cell_type": "code",
   "execution_count": 59,
   "id": "671616e5-8a3b-420d-aa0b-25ebac5da574",
   "metadata": {},
   "outputs": [
    {
     "data": {
      "text/plain": [
       "'namestey python'"
      ]
     },
     "execution_count": 59,
     "metadata": {},
     "output_type": "execute_result"
    }
   ],
   "source": [
    "string.replace(\"hello\",\"namestey\")"
   ]
  },
  {
   "cell_type": "markdown",
   "id": "d1e83503-78b0-4607-86cf-41351751a0da",
   "metadata": {},
   "source": [
    "# que no 8 how can you split a string into a list of substrings based on delimeter?"
   ]
  },
  {
   "cell_type": "code",
   "execution_count": null,
   "id": "a109b9cd-ca93-46de-809f-f3a81a14dbe6",
   "metadata": {},
   "outputs": [],
   "source": [
    "#"
   ]
  },
  {
   "cell_type": "code",
   "execution_count": 60,
   "id": "fa452841-8273-447c-bf49-55ab71196728",
   "metadata": {},
   "outputs": [
    {
     "data": {
      "text/plain": [
       "['prakultomar25', 'gamil.com']"
      ]
     },
     "execution_count": 60,
     "metadata": {},
     "output_type": "execute_result"
    }
   ],
   "source": [
    "\"prakultomar25@gamil.com\".split(\"@\")"
   ]
  },
  {
   "cell_type": "markdown",
   "id": "18aafd43-dae6-445f-881e-e3936b705d5d",
   "metadata": {},
   "source": [
    "# que no 9 how do you check if a string starts with a perticular substring? "
   ]
  },
  {
   "cell_type": "code",
   "execution_count": 62,
   "id": "b26ea29c-c24c-4cac-a66d-fdeb23cedd68",
   "metadata": {},
   "outputs": [],
   "source": [
    "#  by the help of . startswith() function key"
   ]
  },
  {
   "cell_type": "code",
   "execution_count": 63,
   "id": "72ad0faf-a575-4a23-9eb5-9fe7f580a504",
   "metadata": {},
   "outputs": [],
   "source": [
    "name= (\"hello python\")"
   ]
  },
  {
   "cell_type": "code",
   "execution_count": 64,
   "id": "f8614fff-d5da-4525-9e3b-3c4d422ddef2",
   "metadata": {},
   "outputs": [
    {
     "data": {
      "text/plain": [
       "True"
      ]
     },
     "execution_count": 64,
     "metadata": {},
     "output_type": "execute_result"
    }
   ],
   "source": [
    "name.startswith(\"hello\")"
   ]
  },
  {
   "cell_type": "markdown",
   "id": "93077eda-80c1-4ac0-a7fa-0a33d8ca8fb3",
   "metadata": {},
   "source": [
    "# how do you check if a string end with a perticular substring?"
   ]
  },
  {
   "cell_type": "code",
   "execution_count": 65,
   "id": "ec88846a-7bde-483f-bd7c-72312b243c51",
   "metadata": {},
   "outputs": [],
   "source": [
    "# by the help of .endswith  function key"
   ]
  },
  {
   "cell_type": "code",
   "execution_count": 72,
   "id": "b2df858d-8fe7-44bc-a3ff-371aca31f93b",
   "metadata": {},
   "outputs": [
    {
     "data": {
      "text/plain": [
       "True"
      ]
     },
     "execution_count": 72,
     "metadata": {},
     "output_type": "execute_result"
    }
   ],
   "source": [
    "\"hello world\".endswith(\"ld\")"
   ]
  },
  {
   "cell_type": "markdown",
   "id": "4aa9071e-bdfc-4b3d-9309-bddd29dbb96d",
   "metadata": {},
   "source": [
    " # que no  11 how can we remove leading and trailing whitespace from a string?"
   ]
  },
  {
   "cell_type": "code",
   "execution_count": 73,
   "id": "a9401697-0b2d-4e82-8819-340c30fa968d",
   "metadata": {},
   "outputs": [],
   "source": [
    "name=\"  hello python  \""
   ]
  },
  {
   "cell_type": "code",
   "execution_count": 75,
   "id": "89db6bd6-d390-4f56-a3e9-2147d76733c9",
   "metadata": {},
   "outputs": [
    {
     "data": {
      "text/plain": [
       "'hello python'"
      ]
     },
     "execution_count": 75,
     "metadata": {},
     "output_type": "execute_result"
    }
   ],
   "source": [
    "name.strip()"
   ]
  },
  {
   "cell_type": "markdown",
   "id": "ebc95e35-96e2-4072-afd3-102df68bb0db",
   "metadata": {},
   "source": [
    "# que no 12  what method used to find the index of the first occurrence of substring with a string?"
   ]
  },
  {
   "cell_type": "code",
   "execution_count": 77,
   "id": "dacf6f4d-dd4c-428e-ab77-ae8be3923146",
   "metadata": {},
   "outputs": [],
   "source": [
    "# find ()is a method used to find the index of the first occurrence of substring with a string"
   ]
  },
  {
   "cell_type": "code",
   "execution_count": 78,
   "id": "18528638-018c-4443-be7b-2da575d396af",
   "metadata": {},
   "outputs": [],
   "source": [
    "string= (\"this is my python assignment\")"
   ]
  },
  {
   "cell_type": "code",
   "execution_count": 79,
   "id": "0cf976eb-ce8e-46ea-92ec-074975eebe8f",
   "metadata": {},
   "outputs": [
    {
     "data": {
      "text/plain": [
       "8"
      ]
     },
     "execution_count": 79,
     "metadata": {},
     "output_type": "execute_result"
    }
   ],
   "source": [
    "string.find(\"my\")"
   ]
  },
  {
   "cell_type": "markdown",
   "id": "913e8a71-98b2-4633-b4ce-4d48e2b28a7f",
   "metadata": {},
   "source": [
    "# que 13 how can you count the number of occurrences of substring with a string?"
   ]
  },
  {
   "cell_type": "code",
   "execution_count": 81,
   "id": "7fc36a1b-c012-4c45-be40-09c9137dc832",
   "metadata": {},
   "outputs": [],
   "source": [
    "# we can count the  number of occurrences of substring in a string by the help of .count()\n"
   ]
  },
  {
   "cell_type": "code",
   "execution_count": 82,
   "id": "0dfde0bf-8e89-4084-8a9c-e680fa5c509f",
   "metadata": {},
   "outputs": [],
   "source": [
    "string =  (\"1,2,3,4,4,5,2\")"
   ]
  },
  {
   "cell_type": "code",
   "execution_count": 83,
   "id": "9f2773e0-6c74-49f3-b687-0c79b5f77ef4",
   "metadata": {},
   "outputs": [
    {
     "data": {
      "text/plain": [
       "2"
      ]
     },
     "execution_count": 83,
     "metadata": {},
     "output_type": "execute_result"
    }
   ],
   "source": [
    "string.count(\"4\")"
   ]
  },
  {
   "cell_type": "markdown",
   "id": "aff6139c-16bb-4c76-baeb-7e19790f64db",
   "metadata": {},
   "source": [
    "# que 14 how do we check if a string contains only alphabetic characters?"
   ]
  },
  {
   "cell_type": "code",
   "execution_count": 92,
   "id": "003ce659-b821-4d4c-bd23-3629b2728e56",
   "metadata": {},
   "outputs": [
    {
     "data": {
      "text/plain": [
       "True"
      ]
     },
     "execution_count": 92,
     "metadata": {},
     "output_type": "execute_result"
    }
   ],
   "source": [
    "\"mynameisprakultomar\".isalpha() "
   ]
  },
  {
   "cell_type": "markdown",
   "id": "11bceb37-7950-4725-9e22-059150faf4d6",
   "metadata": {},
   "source": [
    "#  que 15 how do we check if a string contains only numeric characters?"
   ]
  },
  {
   "cell_type": "code",
   "execution_count": 95,
   "id": "968b0295-7c60-4c0e-82fa-1428c5b88da1",
   "metadata": {},
   "outputs": [
    {
     "data": {
      "text/plain": [
       "False"
      ]
     },
     "execution_count": 95,
     "metadata": {},
     "output_type": "execute_result"
    }
   ],
   "source": [
    "\" 123456\".isnumeric()"
   ]
  },
  {
   "cell_type": "markdown",
   "id": "dfb82223-fb5e-442b-8c62-2f4fe0c08cde",
   "metadata": {},
   "source": [
    "# que 16 how can we check if a string palindrome?"
   ]
  },
  {
   "cell_type": "code",
   "execution_count": 10,
   "id": "a6d8cdc3-fdc5-4d6e-985f-39b72a037332",
   "metadata": {},
   "outputs": [],
   "source": [
    "string = \"mom\"\n",
    "reverse = string[::-1]"
   ]
  },
  {
   "cell_type": "code",
   "execution_count": 11,
   "id": "ce6c943c-7aed-480a-b8af-7b21180e4e0d",
   "metadata": {},
   "outputs": [
    {
     "name": "stdout",
     "output_type": "stream",
     "text": [
      "reverse string mom\n"
     ]
    }
   ],
   "source": [
    "print(\"reverse string\",reverse)"
   ]
  },
  {
   "cell_type": "code",
   "execution_count": 12,
   "id": "487106ad-d433-420b-b914-66af24430d0d",
   "metadata": {},
   "outputs": [
    {
     "name": "stdout",
     "output_type": "stream",
     "text": [
      "String is plaindrome\n"
     ]
    }
   ],
   "source": [
    "if reverse == string:\n",
    "    print(\"String is plaindrome\")\n",
    "else:\n",
    "    print(\"not a palindrome\")"
   ]
  },
  {
   "cell_type": "markdown",
   "id": "3d34dbb6-10df-452f-b40c-a250fe33072c",
   "metadata": {},
   "source": [
    "# que 17 how  can we reverse a string in python?"
   ]
  },
  {
   "cell_type": "code",
   "execution_count": 97,
   "id": "cfed21b0-a97c-48ab-8271-7d15902a73ee",
   "metadata": {},
   "outputs": [],
   "source": [
    "name=(\"hello python\")"
   ]
  },
  {
   "cell_type": "code",
   "execution_count": 102,
   "id": "5ad8f530-b9e8-4da9-aa97-a792b322ad8f",
   "metadata": {},
   "outputs": [
    {
     "name": "stdout",
     "output_type": "stream",
     "text": [
      "nohtyp olleh\n"
     ]
    }
   ],
   "source": [
    "print(name[::-1])      #. Using String Slicing method"
   ]
  },
  {
   "cell_type": "markdown",
   "id": "4cec9eb7-8fe3-47a6-ac86-22cb9fbdfaa7",
   "metadata": {},
   "source": [
    "# que 18 how do you format a string with a placeholders for varialbe value?"
   ]
  },
  {
   "cell_type": "code",
   "execution_count": 22,
   "id": "70101973-b467-4ecd-8b56-43c4a854eac1",
   "metadata": {},
   "outputs": [
    {
     "data": {
      "text/plain": [
       "'hii i am prakul my age is 23 and city is Delhi'"
      ]
     },
     "execution_count": 22,
     "metadata": {},
     "output_type": "execute_result"
    }
   ],
   "source": [
    "#1\n",
    "name = \"prakul\"\n",
    "age = 23\n",
    "city = \"Delhi\"\n",
    "\"hii i am {1} my age is {2} and city is {0}\".format(city,name,age) # by using .format method"
   ]
  },
  {
   "cell_type": "code",
   "execution_count": 15,
   "id": "4a15856a-0b5d-4021-b1a2-ae2f8d321763",
   "metadata": {},
   "outputs": [
    {
     "data": {
      "text/plain": [
       "'hi i am prakul my  age is 23 and city is Delhi'"
      ]
     },
     "execution_count": 15,
     "metadata": {},
     "output_type": "execute_result"
    }
   ],
   "source": [
    "f\"hi i am {name} my  age is {age} and city is {city}\""
   ]
  },
  {
   "cell_type": "markdown",
   "id": "4e74a541-9ff9-439c-846e-a7f66a4c7218",
   "metadata": {},
   "source": [
    "# que 19 how do you access a substring of a string using slicing?"
   ]
  },
  {
   "cell_type": "code",
   "execution_count": 109,
   "id": "8e05c3b1-75a3-4f40-95df-9be73263f52d",
   "metadata": {},
   "outputs": [],
   "source": [
    "#  slicing method [start:stop:step]"
   ]
  },
  {
   "cell_type": "code",
   "execution_count": 110,
   "id": "774a55d8-5aa4-49a6-bc2e-06f85f165789",
   "metadata": {},
   "outputs": [],
   "source": [
    "name=(\"hello python\")"
   ]
  },
  {
   "cell_type": "code",
   "execution_count": 112,
   "id": "666cda1f-5130-4e07-a208-95295c2d4218",
   "metadata": {},
   "outputs": [
    {
     "name": "stdout",
     "output_type": "stream",
     "text": [
      "hello\n"
     ]
    }
   ],
   "source": [
    "print(name[:5:])"
   ]
  },
  {
   "cell_type": "markdown",
   "id": "352598aa-0baa-454e-80fc-f4bf3e24287c",
   "metadata": {},
   "source": [
    "# que 20  how can you remove specify characters form a string?"
   ]
  },
  {
   "cell_type": "code",
   "execution_count": 18,
   "id": "b2ada8a2-822f-4b44-aefa-1881038498ae",
   "metadata": {},
   "outputs": [],
   "source": [
    "name = \"this is python class\""
   ]
  },
  {
   "cell_type": "code",
   "execution_count": 19,
   "id": "64d1cbf9-5c83-40a8-985b-962a76e04990",
   "metadata": {},
   "outputs": [],
   "source": [
    "ta=name.replace('i' , '')"
   ]
  },
  {
   "cell_type": "code",
   "execution_count": 20,
   "id": "4cc223d5-5be3-46e6-87e4-94245bc65ac6",
   "metadata": {},
   "outputs": [
    {
     "data": {
      "text/plain": [
       "'ths s python class'"
      ]
     },
     "execution_count": 20,
     "metadata": {},
     "output_type": "execute_result"
    }
   ],
   "source": [
    "ta"
   ]
  },
  {
   "cell_type": "code",
   "execution_count": null,
   "id": "459cfbbe-fd41-4a32-841f-c975bdf04dd5",
   "metadata": {},
   "outputs": [],
   "source": []
  }
 ],
 "metadata": {
  "kernelspec": {
   "display_name": "Python [conda env:base] *",
   "language": "python",
   "name": "conda-base-py"
  },
  "language_info": {
   "codemirror_mode": {
    "name": "ipython",
    "version": 3
   },
   "file_extension": ".py",
   "mimetype": "text/x-python",
   "name": "python",
   "nbconvert_exporter": "python",
   "pygments_lexer": "ipython3",
   "version": "3.13.5"
  }
 },
 "nbformat": 4,
 "nbformat_minor": 5
}
