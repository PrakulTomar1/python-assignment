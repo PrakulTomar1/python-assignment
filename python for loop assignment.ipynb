{
 "cells": [
  {
   "cell_type": "raw",
   "id": "672c6561-593e-456e-9e07-ffd9b6af4539",
   "metadata": {},
   "source": [
    "Question 1: Write a Python program to print all the numbers from 1 to 10 using a for loop.\n"
   ]
  },
  {
   "cell_type": "code",
   "execution_count": 3,
   "id": "69231c1a-5464-42e9-ab30-7ea0f5521415",
   "metadata": {},
   "outputs": [
    {
     "name": "stdout",
     "output_type": "stream",
     "text": [
      "0\n",
      "1\n",
      "2\n",
      "3\n",
      "4\n",
      "5\n",
      "6\n",
      "7\n",
      "8\n",
      "9\n",
      "10\n"
     ]
    }
   ],
   "source": [
    "for i in range(11):\n",
    "    print(i)"
   ]
  },
  {
   "cell_type": "raw",
   "id": "079faf69-2d76-4c08-96c7-7bc5a50aeea4",
   "metadata": {},
   "source": [
    "Question 2: Write a Python program to find the sum of all numbers from 1 to 100 using a for loop."
   ]
  },
  {
   "cell_type": "code",
   "execution_count": 45,
   "id": "b087b49b-686a-4361-8ba3-5b27de55be6c",
   "metadata": {},
   "outputs": [
    {
     "name": "stdout",
     "output_type": "stream",
     "text": [
      "5050\n"
     ]
    }
   ],
   "source": [
    "sum=0\n",
    "for i in range(1,101):\n",
    "    sum=sum+i\n",
    "print(sum)"
   ]
  },
  {
   "cell_type": "raw",
   "id": "c9722159-566c-4565-85b4-e42fb2c1cadc",
   "metadata": {},
   "source": [
    "Question 3: Write a Python program to print the multiplication table of a given number using a for loop."
   ]
  },
  {
   "cell_type": "code",
   "execution_count": 3,
   "id": "138beb4d-b11f-44de-82ae-563cbfddee5f",
   "metadata": {},
   "outputs": [
    {
     "name": "stdout",
     "output_type": "stream",
     "text": [
      "enter your number\n"
     ]
    },
    {
     "name": "stdin",
     "output_type": "stream",
     "text": [
      "number is 45\n"
     ]
    },
    {
     "name": "stdout",
     "output_type": "stream",
     "text": [
      "45*1 = 45\n",
      "45*2 = 90\n",
      "45*3 = 135\n",
      "45*4 = 180\n",
      "45*5 = 225\n",
      "45*6 = 270\n",
      "45*7 = 315\n",
      "45*8 = 360\n",
      "45*9 = 405\n",
      "45*10 = 450\n"
     ]
    }
   ],
   "source": [
    "print(\"enter your number\")\n",
    "number = int(input(\"number is\"))\n",
    "for i in range(1,11):\n",
    "    print(f\"{number}*{i} =\",(number*i))"
   ]
  },
  {
   "cell_type": "raw",
   "id": "c88b2404-f882-4e70-8dbd-5ca268b14333",
   "metadata": {},
   "source": [
    "Q.4: Write a python program to count the number of even and odd numbers from a series of number using for  loop."
   ]
  },
  {
   "cell_type": "code",
   "execution_count": 56,
   "id": "c84832cc-31aa-45a1-afb1-758adb2502af",
   "metadata": {},
   "outputs": [
    {
     "name": "stdout",
     "output_type": "stream",
     "text": [
      "even 5\n",
      "odd 5\n"
     ]
    }
   ],
   "source": [
    "number = [1,2,3,4,5,6,7,8,9,10]\n",
    "even = 0 \n",
    "odd = 0\n",
    "for i in (number):\n",
    "    if i%2==0:\n",
    "        even=even+1\n",
    "    else:\n",
    "        odd=odd+1\n",
    "print(\"even\",even)\n",
    "print(\"odd\",odd)\n",
    "    \n"
   ]
  },
  {
   "cell_type": "raw",
   "id": "44025021-36fa-414d-ab67-0f6a520b3561",
   "metadata": {},
   "source": [
    "Q5. Write a python program to find the factorial of a  number using a for  loop."
   ]
  },
  {
   "cell_type": "code",
   "execution_count": 7,
   "id": "5c8e6931-d076-45ff-ae54-eb63ed4e2d8b",
   "metadata": {},
   "outputs": [
    {
     "name": "stdin",
     "output_type": "stream",
     "text": [
      "enter your number 5\n"
     ]
    },
    {
     "name": "stdout",
     "output_type": "stream",
     "text": [
      "factorial of 5 is : 120\n"
     ]
    }
   ],
   "source": [
    "fact = 1\n",
    "number = int(input(\"enter your number\"))\n",
    "for i in range(1,number+1):\n",
    "    fact*=i\n",
    "print(f\"factorial of {number} is :\",fact)"
   ]
  },
  {
   "cell_type": "raw",
   "id": "3fde824b-22f8-4b98-976e-dab7143054b5",
   "metadata": {},
   "source": [
    "Question 6: Write a Python program to print the Fibonacci sequence up to a specified number using a for loop.\n"
   ]
  },
  {
   "cell_type": "code",
   "execution_count": 6,
   "id": "5f46c921-1727-4da4-a48a-6e470efc28db",
   "metadata": {},
   "outputs": [],
   "source": [
    "# Fibonacci sequence 0,1,1,2,3,5,8,13,21,34,55,89,."
   ]
  },
  {
   "cell_type": "code",
   "execution_count": 9,
   "id": "f51585fa-50cb-427f-b09b-9dcc15012fe1",
   "metadata": {},
   "outputs": [
    {
     "name": "stdin",
     "output_type": "stream",
     "text": [
      "enter your term 8\n"
     ]
    },
    {
     "name": "stdout",
     "output_type": "stream",
     "text": [
      "0,1,1,2,3,5,8,13,"
     ]
    }
   ],
   "source": [
    "num1 = 0\n",
    "num2 = 1\n",
    "term = int(input(\"enter your term\"))\n",
    "print(num1,end=\",\")\n",
    "for i in range(1,term):\n",
    "    print(num2,end=\",\")\n",
    "    num1,num2= num2,num1+num2"
   ]
  },
  {
   "cell_type": "code",
   "execution_count": 12,
   "id": "531360e2-05fe-4207-bb2c-6dfa92a84557",
   "metadata": {},
   "outputs": [
    {
     "name": "stdin",
     "output_type": "stream",
     "text": [
      "enter your term 10\n"
     ]
    },
    {
     "name": "stdout",
     "output_type": "stream",
     "text": [
      "0,1,1,2,3,5,8,13,21,34,"
     ]
    }
   ],
   "source": [
    "num1 =0\n",
    "num2 =1\n",
    "term = int(input(\"enter your term\"))\n",
    "print(num1,end=\",\")\n",
    "for i in range(1,term):\n",
    "    print(num2,end=\",\")\n",
    "    num1,num2=num2,num1+num2"
   ]
  },
  {
   "cell_type": "code",
   "execution_count": 15,
   "id": "3517ba32-f4b8-4dbc-ab91-eb914cb7c5fc",
   "metadata": {},
   "outputs": [
    {
     "name": "stdout",
     "output_type": "stream",
     "text": [
      "0 1 1 2 3 5 8 13 21 34 "
     ]
    }
   ],
   "source": [
    "first ,second = 0,1\n",
    "for i in range (10):\n",
    "    print(first,end=\" \")\n",
    "    first,second= second,first+second                             #2nd method"
   ]
  },
  {
   "cell_type": "raw",
   "id": "1d7cafd5-e1e7-4350-aeeb-61bea0e75ec1",
   "metadata": {},
   "source": [
    "Question 7: Write a Python program to check if a given number is prime or not using a for loop.\n"
   ]
  },
  {
   "cell_type": "code",
   "execution_count": 1,
   "id": "3a328847-e3f5-4c71-b25a-0387d600a75d",
   "metadata": {},
   "outputs": [
    {
     "name": "stdin",
     "output_type": "stream",
     "text": [
      "enter a number to check prime number or not 45\n"
     ]
    },
    {
     "name": "stdout",
     "output_type": "stream",
     "text": [
      "this is not prime number\n"
     ]
    }
   ],
   "source": [
    "number = int(input(\"enter a number to check prime number or not\"))\n",
    "\n",
    "for i in range(2,number):\n",
    "    if number%i==0:\n",
    "        print(\"this is not prime number\")\n",
    "        break\n",
    "\n",
    "else:\n",
    "    print(\"this is prime number\")\n"
   ]
  },
  {
   "cell_type": "raw",
   "id": "1daf2a39-94f4-42e9-b47d-dad62d2cf144",
   "metadata": {},
   "source": [
    "uestion 8: Write a Python program to find the largest element in a list using a for loop.\n"
   ]
  },
  {
   "cell_type": "code",
   "execution_count": 8,
   "id": "1e515628-d39f-471d-9080-6839ecc1ae11",
   "metadata": {},
   "outputs": [
    {
     "name": "stdin",
     "output_type": "stream",
     "text": [
      "enter element of list seprated by comma  5,9,221,4582,25654\n"
     ]
    },
    {
     "name": "stdout",
     "output_type": "stream",
     "text": [
      "largest element :25654\n"
     ]
    }
   ],
   "source": [
    "element = input(\"enter element of list seprated by comma \")\n",
    "lst = element.split(\",\")\n",
    "maxmm = int(lst[0])\n",
    "for i in lst:\n",
    "    if int(i)>maxmm:\n",
    "        maxmm=int(i)\n",
    "print(f\"largest element :{maxmm}\")\n"
   ]
  },
  {
   "cell_type": "code",
   "execution_count": null,
   "id": "13192848-4b7e-4a38-b0c3-fdfb54d4feef",
   "metadata": {},
   "outputs": [],
   "source": []
  },
  {
   "cell_type": "raw",
   "id": "83782d1f-fcf3-4c2e-bd25-566d511f41cb",
   "metadata": {},
   "source": [
    "Question 9: Write a Python program to reverse a given string using a for loo"
   ]
  },
  {
   "cell_type": "code",
   "execution_count": 6,
   "id": "94290faa-1eed-400a-ad1b-6b4c95fbfd75",
   "metadata": {},
   "outputs": [
    {
     "name": "stdout",
     "output_type": "stream",
     "text": [
      "nohtyp\n"
     ]
    }
   ],
   "source": [
    "string =\"python\"\n",
    "reverse=\"\"\n",
    "\n",
    "for i in string:\n",
    "    # print(i,end=\" \")\n",
    "    reverse= i + reverse\n",
    "print(reverse)"
   ]
  },
  {
   "cell_type": "code",
   "execution_count": 9,
   "id": "15c10389-c5ce-4155-b674-ae2a0834a609",
   "metadata": {},
   "outputs": [
    {
     "name": "stdout",
     "output_type": "stream",
     "text": [
      "nohtyp\n"
     ]
    }
   ],
   "source": [
    "string = \"python\"\n",
    "reverse = \"\"\n",
    "\n",
    "for i in string:\n",
    "    reverse = i+reverse\n",
    "print(reverse)"
   ]
  },
  {
   "cell_type": "raw",
   "id": "e327d0e0-28f3-4f72-a6fa-26f7cc93e331",
   "metadata": {},
   "source": [
    "Question 10: Write a Python program to find the common elements between two lists using a for loop. List1 = [1,2,3] List2 = [4,5,1] # common element is 1\n"
   ]
  },
  {
   "cell_type": "code",
   "execution_count": 11,
   "id": "b1d00605-30fd-4601-9728-dba73a7115f9",
   "metadata": {},
   "outputs": [],
   "source": []
  },
  {
   "cell_type": "code",
   "execution_count": 12,
   "id": "ae72ddd8-4bb1-4ec0-8cfb-91fab12467ab",
   "metadata": {},
   "outputs": [
    {
     "name": "stdout",
     "output_type": "stream",
     "text": [
      "Common elements in [1, 2, 3] & [4, 5, 1] are: 1\n"
     ]
    }
   ],
   "source": [
    "list1=[1,2,3]\n",
    "list2=[4,5,1]\n",
    "print(f\"Common elements in {list1} & {list2} are\",end=\": \")\n",
    "for i in list1:\n",
    "    for j in list2:\n",
    "        if i==j:\n",
    "            print(i)"
   ]
  },
  {
   "cell_type": "code",
   "execution_count": null,
   "id": "f748cca3-9ac2-472a-ab6a-3ca0fa47c9b7",
   "metadata": {},
   "outputs": [],
   "source": []
  },
  {
   "cell_type": "code",
   "execution_count": null,
   "id": "c918ec5f-f60c-4f9c-84aa-b39dec9db9e2",
   "metadata": {},
   "outputs": [],
   "source": []
  }
 ],
 "metadata": {
  "kernelspec": {
   "display_name": "Python [conda env:base] *",
   "language": "python",
   "name": "conda-base-py"
  },
  "language_info": {
   "codemirror_mode": {
    "name": "ipython",
    "version": 3
   },
   "file_extension": ".py",
   "mimetype": "text/x-python",
   "name": "python",
   "nbconvert_exporter": "python",
   "pygments_lexer": "ipython3",
   "version": "3.13.5"
  }
 },
 "nbformat": 4,
 "nbformat_minor": 5
}
